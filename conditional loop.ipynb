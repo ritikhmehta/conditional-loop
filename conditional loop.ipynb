{
 "cells": [
  {
   "cell_type": "code",
   "execution_count": 1,
   "id": "b5cca0af-0204-4bf4-9860-ba7e06512ad4",
   "metadata": {},
   "outputs": [],
   "source": [
    "d={}"
   ]
  },
  {
   "cell_type": "code",
   "execution_count": 2,
   "id": "4a29ed5e-9f97-4335-aac2-f90909876a16",
   "metadata": {},
   "outputs": [
    {
     "data": {
      "text/plain": [
       "dict"
      ]
     },
     "execution_count": 2,
     "metadata": {},
     "output_type": "execute_result"
    }
   ],
   "source": [
    "type(d)"
   ]
  },
  {
   "cell_type": "code",
   "execution_count": 3,
   "id": "b079997d-573e-4a26-974e-15cb48cd914f",
   "metadata": {},
   "outputs": [],
   "source": [
    "d1={'key':'sudh'}"
   ]
  },
  {
   "cell_type": "code",
   "execution_count": 4,
   "id": "a4c78862-7b1e-4f11-bb19-1446c94bac3e",
   "metadata": {},
   "outputs": [
    {
     "data": {
      "text/plain": [
       "{'key': 'sudh'}"
      ]
     },
     "execution_count": 4,
     "metadata": {},
     "output_type": "execute_result"
    }
   ],
   "source": [
    "d1"
   ]
  },
  {
   "cell_type": "code",
   "execution_count": 5,
   "id": "cd344378-8afc-4ea4-9a95-66a919ac4fbc",
   "metadata": {},
   "outputs": [],
   "source": [
    "d2={'name':'sudhanshu','email':'sudh@gmail.com','number':987141565}"
   ]
  },
  {
   "cell_type": "code",
   "execution_count": 6,
   "id": "864cf31b-b55d-4fea-b783-55242780371a",
   "metadata": {},
   "outputs": [
    {
     "data": {
      "text/plain": [
       "{'name': 'sudhanshu', 'email': 'sudh@gmail.com', 'number': 987141565}"
      ]
     },
     "execution_count": 6,
     "metadata": {},
     "output_type": "execute_result"
    }
   ],
   "source": [
    "d2"
   ]
  },
  {
   "cell_type": "code",
   "execution_count": 7,
   "id": "2d7056e4-0d25-4978-accd-18e41aa29ff0",
   "metadata": {},
   "outputs": [
    {
     "data": {
      "text/plain": [
       "'sudhanshu'"
      ]
     },
     "execution_count": 7,
     "metadata": {},
     "output_type": "execute_result"
    }
   ],
   "source": [
    "d2['name']"
   ]
  },
  {
   "cell_type": "code",
   "execution_count": 8,
   "id": "d0f0f476-bacd-43d3-b91e-7d5c1110f879",
   "metadata": {},
   "outputs": [],
   "source": [
    "d3={'company':'pwskills','course':['dev ops','data scientist','software engineer']}"
   ]
  },
  {
   "cell_type": "code",
   "execution_count": 9,
   "id": "e6082394-b393-4e8a-802d-956ba7dd815d",
   "metadata": {},
   "outputs": [
    {
     "data": {
      "text/plain": [
       "{'company': 'pwskills',\n",
       " 'course': ['dev ops', 'data scientist', 'software engineer']}"
      ]
     },
     "execution_count": 9,
     "metadata": {},
     "output_type": "execute_result"
    }
   ],
   "source": [
    "d3"
   ]
  },
  {
   "cell_type": "code",
   "execution_count": 10,
   "id": "384d8685-c0c4-454b-b958-bedd6bfdfe3b",
   "metadata": {},
   "outputs": [
    {
     "data": {
      "text/plain": [
       "'data scientist'"
      ]
     },
     "execution_count": 10,
     "metadata": {},
     "output_type": "execute_result"
    }
   ],
   "source": [
    "d3['course'][1]"
   ]
  },
  {
   "cell_type": "code",
   "execution_count": 11,
   "id": "faff1d9e-3749-45ff-8ae2-8aa12c5c6859",
   "metadata": {},
   "outputs": [],
   "source": [
    "d4={'company':'pw skills','course time':{'dev ops':6,'data scientis':7,'software engineer':9}}"
   ]
  },
  {
   "cell_type": "code",
   "execution_count": 14,
   "id": "383d0da4-267e-42ef-9c14-e60dca713be5",
   "metadata": {},
   "outputs": [
    {
     "data": {
      "text/plain": [
       "6"
      ]
     },
     "execution_count": 14,
     "metadata": {},
     "output_type": "execute_result"
    }
   ],
   "source": [
    "d4['course time']['dev ops']"
   ]
  },
  {
   "cell_type": "code",
   "execution_count": 15,
   "id": "8a185bfd-5495-4437-8e2f-f614e71d45a9",
   "metadata": {},
   "outputs": [],
   "source": [
    "d4['mentor']=['sudhanshu','ritikh','kartik']"
   ]
  },
  {
   "cell_type": "code",
   "execution_count": 16,
   "id": "d6bc3e40-7ecd-47c5-b6f9-e1a0f31d0c6d",
   "metadata": {},
   "outputs": [
    {
     "data": {
      "text/plain": [
       "{'company': 'pw skills',\n",
       " 'course time': {'dev ops': 6, 'data scientis': 7, 'software engineer': 9},\n",
       " 'mentor': ['sudhanshu', 'ritikh', 'kartik']}"
      ]
     },
     "execution_count": 16,
     "metadata": {},
     "output_type": "execute_result"
    }
   ],
   "source": [
    "d4"
   ]
  },
  {
   "cell_type": "code",
   "execution_count": 18,
   "id": "5738fe7f-e27a-4c72-bbee-ca65267557a7",
   "metadata": {},
   "outputs": [
    {
     "data": {
      "text/plain": [
       "['company', 'course time', 'mentor']"
      ]
     },
     "execution_count": 18,
     "metadata": {},
     "output_type": "execute_result"
    }
   ],
   "source": [
    "list(d4.keys())"
   ]
  },
  {
   "cell_type": "code",
   "execution_count": 22,
   "id": "1f1e1db7-4a38-43ba-acd4-09a6f77e21be",
   "metadata": {},
   "outputs": [
    {
     "data": {
      "text/plain": [
       "[['sudhanshu', 'ritikh', 'kartik'],\n",
       " {'dev ops': 6, 'data scientis': 7, 'software engineer': 9},\n",
       " 'pw skills']"
      ]
     },
     "execution_count": 22,
     "metadata": {},
     "output_type": "execute_result"
    }
   ],
   "source": [
    "list(d4.values())[::-1]"
   ]
  },
  {
   "cell_type": "code",
   "execution_count": 5,
   "id": "b2169ebc-344c-48ba-b3a2-07b94e720a7e",
   "metadata": {},
   "outputs": [
    {
     "name": "stdin",
     "output_type": "stream",
     "text": [
      "whats your marks 66\n"
     ]
    },
    {
     "ename": "NameError",
     "evalue": "name 'valid' is not defined",
     "output_type": "error",
     "traceback": [
      "\u001b[0;31m---------------------------------------------------------------------------\u001b[0m",
      "\u001b[0;31mNameError\u001b[0m                                 Traceback (most recent call last)",
      "Cell \u001b[0;32mIn[5], line 7\u001b[0m\n\u001b[1;32m      5\u001b[0m     \u001b[38;5;28mprint\u001b[39m(\u001b[38;5;124m'\u001b[39m\u001b[38;5;124mA1 batch alloted\u001b[39m\u001b[38;5;124m'\u001b[39m)\n\u001b[1;32m      6\u001b[0m \u001b[38;5;28;01melse\u001b[39;00m :\n\u001b[0;32m----> 7\u001b[0m     \u001b[38;5;28mprint\u001b[39m(\u001b[38;5;129;01mnot\u001b[39;00m \u001b[43mvalid\u001b[49m)\n",
      "\u001b[0;31mNameError\u001b[0m: name 'valid' is not defined"
     ]
    }
   ],
   "source": [
    "marks = int(input('whats your marks'))\n",
    "if marks >= 80 :\n",
    "    print('A0 batch alloted')\n",
    "elif marks >= 40 and marks <60:\n",
    "    print('A1 batch alloted')\n",
    "else :\n",
    "    print(not valid)"
   ]
  },
  {
   "cell_type": "code",
   "execution_count": 7,
   "id": "ff6f5aae-2c56-4f7a-9701-3375940a6b79",
   "metadata": {},
   "outputs": [
    {
     "name": "stdin",
     "output_type": "stream",
     "text": [
      "What's your price 2000\n"
     ]
    },
    {
     "name": "stdout",
     "output_type": "stream",
     "text": [
      "I will not purchase\n"
     ]
    }
   ],
   "source": [
    "price = int(input(\"What's your price\"))\n",
    "if price > 1000 :\n",
    "    print('I will not purchase')\n",
    "else :\n",
    "    print('I will purchase')"
   ]
  },
  {
   "cell_type": "code",
   "execution_count": 1,
   "id": "0f238510-8592-4233-a04f-05b817f78799",
   "metadata": {},
   "outputs": [],
   "source": [
    "l = [1,2,3,4,5,6]"
   ]
  },
  {
   "cell_type": "code",
   "execution_count": 2,
   "id": "b561f2ca-f7a0-4d7e-834b-07340cf04046",
   "metadata": {},
   "outputs": [],
   "source": [
    "l.append(7)"
   ]
  },
  {
   "cell_type": "code",
   "execution_count": 3,
   "id": "ab2a5d6c-1643-4923-8a47-188753abeecf",
   "metadata": {},
   "outputs": [
    {
     "data": {
      "text/plain": [
       "[1, 2, 3, 4, 5, 6, 7]"
      ]
     },
     "execution_count": 3,
     "metadata": {},
     "output_type": "execute_result"
    }
   ],
   "source": [
    "l"
   ]
  },
  {
   "cell_type": "code",
   "execution_count": 4,
   "id": "9ce25178-7324-4ee1-a760-14ca3bbe4093",
   "metadata": {},
   "outputs": [],
   "source": [
    "l.remove(7)"
   ]
  },
  {
   "cell_type": "code",
   "execution_count": 5,
   "id": "e07bc431-b99d-4321-bd10-ea61c8ce1a8f",
   "metadata": {},
   "outputs": [
    {
     "data": {
      "text/plain": [
       "[1, 2, 3, 4, 5, 6]"
      ]
     },
     "execution_count": 5,
     "metadata": {},
     "output_type": "execute_result"
    }
   ],
   "source": [
    "l"
   ]
  },
  {
   "cell_type": "code",
   "execution_count": 6,
   "id": "5d772d22-5ded-4fa7-ba01-5d61d9127ae9",
   "metadata": {},
   "outputs": [],
   "source": [
    "l1=[]"
   ]
  },
  {
   "cell_type": "code",
   "execution_count": 7,
   "id": "0c0529da-f8e4-4c99-bfd8-530d875e03cd",
   "metadata": {},
   "outputs": [],
   "source": [
    "l1.append(l[0]+1)"
   ]
  },
  {
   "cell_type": "code",
   "execution_count": 8,
   "id": "a51b1887-d962-4e50-9f60-bdf7e92db364",
   "metadata": {},
   "outputs": [
    {
     "data": {
      "text/plain": [
       "[2]"
      ]
     },
     "execution_count": 8,
     "metadata": {},
     "output_type": "execute_result"
    }
   ],
   "source": [
    "l1"
   ]
  },
  {
   "cell_type": "code",
   "execution_count": 9,
   "id": "413b0924-11fa-494a-8370-d210024a79b3",
   "metadata": {},
   "outputs": [
    {
     "data": {
      "text/plain": [
       "[1, 2, 3, 4, 5, 6]"
      ]
     },
     "execution_count": 9,
     "metadata": {},
     "output_type": "execute_result"
    }
   ],
   "source": [
    "l"
   ]
  },
  {
   "cell_type": "code",
   "execution_count": 12,
   "id": "9ac9e256-7d5c-49f0-9263-878ad5d26f5c",
   "metadata": {},
   "outputs": [
    {
     "name": "stdout",
     "output_type": "stream",
     "text": [
      "2\n",
      "3\n",
      "4\n",
      "5\n",
      "6\n",
      "7\n"
     ]
    }
   ],
   "source": [
    "l1=[]\n",
    "for i in l:\n",
    "    print(i+1)\n",
    "    l1.append(i+1)"
   ]
  },
  {
   "cell_type": "code",
   "execution_count": 13,
   "id": "d0c760de-36a1-40b9-b006-e729dd3ba5bb",
   "metadata": {},
   "outputs": [
    {
     "data": {
      "text/plain": [
       "[2, 3, 4, 5, 6, 7]"
      ]
     },
     "execution_count": 13,
     "metadata": {},
     "output_type": "execute_result"
    }
   ],
   "source": [
    "l1"
   ]
  },
  {
   "cell_type": "code",
   "execution_count": 14,
   "id": "5ef39a08-641c-4361-bd04-177492f2d22e",
   "metadata": {},
   "outputs": [],
   "source": [
    "l2=[\"sudh\",\"kumar\",\"pwskills\",\"course\"]"
   ]
  },
  {
   "cell_type": "code",
   "execution_count": 17,
   "id": "80d73000-05ad-4fe4-868f-5d18f476b959",
   "metadata": {},
   "outputs": [
    {
     "name": "stdout",
     "output_type": "stream",
     "text": [
      "sudh\n",
      "kumar\n",
      "pwskills\n",
      "course\n"
     ]
    }
   ],
   "source": [
    "\n",
    "l3=[]\n",
    "for i in l2:\n",
    "    print(i)\n",
    "    l3.append(i.upper())\n",
    "\n",
    "     "
   ]
  },
  {
   "cell_type": "code",
   "execution_count": 18,
   "id": "25711560-ef17-41e2-9b8a-7559a25d98e8",
   "metadata": {},
   "outputs": [
    {
     "data": {
      "text/plain": [
       "['SUDH', 'KUMAR', 'PWSKILLS', 'COURSE']"
      ]
     },
     "execution_count": 18,
     "metadata": {},
     "output_type": "execute_result"
    }
   ],
   "source": [
    "l3"
   ]
  },
  {
   "cell_type": "code",
   "execution_count": 19,
   "id": "730aa0d8-2229-4894-9987-bb8f281fffc2",
   "metadata": {},
   "outputs": [],
   "source": [
    "l=[1,2,3,4,4,\"sudh\",\"kumar\",324,34.456,\"abc\"]"
   ]
  },
  {
   "cell_type": "code",
   "execution_count": 22,
   "id": "3d260cd3-9aeb-4045-ad8b-0b0a298b7bc2",
   "metadata": {},
   "outputs": [
    {
     "data": {
      "text/plain": [
       "7"
      ]
     },
     "execution_count": 22,
     "metadata": {},
     "output_type": "execute_result"
    }
   ],
   "source": [
    "l1[5]"
   ]
  },
  {
   "cell_type": "code",
   "execution_count": 23,
   "id": "20c370f1-effa-43fc-b371-624ae5e4e889",
   "metadata": {},
   "outputs": [
    {
     "data": {
      "text/plain": [
       "[1, 2, 3, 4, 4, 'sudh', 'kumar', 324, 34.456, 'abc']"
      ]
     },
     "execution_count": 23,
     "metadata": {},
     "output_type": "execute_result"
    }
   ],
   "source": [
    "l"
   ]
  },
  {
   "cell_type": "code",
   "execution_count": 32,
   "id": "6acedf8b-74ae-40c9-9873-734c23bc0236",
   "metadata": {},
   "outputs": [],
   "source": [
    "l1_num=[]\n",
    "l2_alpha=[]\n",
    "for i in l:\n",
    "    if type(i) == int or type(i) == float:\n",
    "        l1_num.append(i)\n",
    "    else:\n",
    "        l2_alpha.append(i)"
   ]
  },
  {
   "cell_type": "code",
   "execution_count": 33,
   "id": "e2bef42e-f5e6-4da4-b491-b762131d23c2",
   "metadata": {},
   "outputs": [
    {
     "data": {
      "text/plain": [
       "[1, 2, 3, 4, 4, 324, 34.456]"
      ]
     },
     "execution_count": 33,
     "metadata": {},
     "output_type": "execute_result"
    }
   ],
   "source": [
    "l1_num"
   ]
  },
  {
   "cell_type": "code",
   "execution_count": 34,
   "id": "53c042a9-173f-4eba-950b-4853abe54f77",
   "metadata": {},
   "outputs": [
    {
     "data": {
      "text/plain": [
       "['sudh', 'kumar', 'abc']"
      ]
     },
     "execution_count": 34,
     "metadata": {},
     "output_type": "execute_result"
    }
   ],
   "source": [
    "l2_alpha"
   ]
  },
  {
   "cell_type": "code",
   "execution_count": 1,
   "id": "b25b1cda-8a2b-4d9c-bc7e-54e2ddce54f6",
   "metadata": {},
   "outputs": [],
   "source": [
    "l=[\"sudh\",1,3,4,4,4,\"kumar\",6.5,3,\"ukt\"]"
   ]
  },
  {
   "cell_type": "code",
   "execution_count": 3,
   "id": "aeec4d66-b497-4d57-b729-40d6ff2976f9",
   "metadata": {},
   "outputs": [],
   "source": [
    "l1=[]\n",
    "l2=[]\n",
    "for i in l:\n",
    "    if type(i)==int or type(i)==float:\n",
    "        l1.append(i)\n",
    "    else:\n",
    "        l2.append(i)"
   ]
  },
  {
   "cell_type": "code",
   "execution_count": 4,
   "id": "923fc05e-07fa-433e-a0d0-48d3a61128d9",
   "metadata": {},
   "outputs": [
    {
     "data": {
      "text/plain": [
       "[1, 3, 4, 4, 4, 6.5, 3]"
      ]
     },
     "execution_count": 4,
     "metadata": {},
     "output_type": "execute_result"
    }
   ],
   "source": [
    "l1"
   ]
  },
  {
   "cell_type": "code",
   "execution_count": 5,
   "id": "590dcfa9-ba09-499a-8321-3f9973306693",
   "metadata": {},
   "outputs": [
    {
     "data": {
      "text/plain": [
       "['sudh', 'kumar', 'ukt']"
      ]
     },
     "execution_count": 5,
     "metadata": {},
     "output_type": "execute_result"
    }
   ],
   "source": [
    "l2"
   ]
  },
  {
   "cell_type": "code",
   "execution_count": null,
   "id": "756c9fdf-ff7c-4af4-a1a1-1bf87ec75bd9",
   "metadata": {},
   "outputs": [],
   "source": []
  }
 ],
 "metadata": {
  "kernelspec": {
   "display_name": "Python 3 (ipykernel)",
   "language": "python",
   "name": "python3"
  },
  "language_info": {
   "codemirror_mode": {
    "name": "ipython",
    "version": 3
   },
   "file_extension": ".py",
   "mimetype": "text/x-python",
   "name": "python",
   "nbconvert_exporter": "python",
   "pygments_lexer": "ipython3",
   "version": "3.10.8"
  }
 },
 "nbformat": 4,
 "nbformat_minor": 5
}
